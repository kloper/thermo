{
 "cells": [
  {
   "cell_type": "code",
   "execution_count": 1,
   "metadata": {
    "collapsed": false
   },
   "outputs": [
    {
     "name": "stdout",
     "output_type": "stream",
     "text": [
      "Using matplotlib backend: TkAgg\n",
      "Populating the interactive namespace from numpy and matplotlib\n"
     ]
    }
   ],
   "source": [
    "%pylab\n",
    "%matplotlib inline\n",
    "from thermocouples_reference import thermocouples\n",
    "\n",
    "k_type = thermocouples['K']"
   ]
  },
  {
   "cell_type": "code",
   "execution_count": 54,
   "metadata": {
    "collapsed": false
   },
   "outputs": [],
   "source": [
    "class Thermocouple(object):\n",
    "    def __init__(self, r1=10e3, r2=464.5e3, rtc=29.0, vref=40e-3, vdd=3.3):\n",
    "        self.r1 = r1\n",
    "        self.r2 = r2\n",
    "        self.rtc = rtc\n",
    "        self.vref = vref\n",
    "        self.vdd = vdd\n",
    "\n",
    "    @property\n",
    "    def c2(self):\n",
    "        return (self.r2 / self.r1)\n",
    "\n",
    "    @property\n",
    "    def c3(self):\n",
    "        return (self.r1 + self.rtc + self.r2) / self.rtc\n",
    "\n",
    "    def it(self, vout):\n",
    "        return (vout - self.vt(vout)) / (self.r1 + self.r2)\n",
    "\n",
    "    def vt(self, vout):\n",
    "        return self.vref - vout / self.c2\n",
    "\n",
    "    def vto(self, vout):\n",
    "        return self.vt(vout) - self.it(vout) * self.rtc\n",
    "\n",
    "class Thermistor(object):\n",
    "    def __init__(self, r0=100000, beta=3950, t0=298.15, r_sense=67000 * 2):\n",
    "        self.r0 = r0 # Ohm\n",
    "        self.beta = beta\n",
    "        self.t0 = t0 # Kelvin\n",
    "        self.r_sense = r_sense # Ohm\n",
    "\n",
    "        self.r_inf = self.r0 * numpy.e ** -(self.beta / self.t0)\n",
    "\n",
    "    def temp(self, v_adc):\n",
    "        \"\"\"\n",
    "        Accept ADC value from thermistor connected to ADC_IN0.\n",
    "        Return temperature in Kelvin\n",
    "        \"\"\"\n",
    "        return self.beta / numpy.log(\n",
    "            self.r_sense / self.r_inf * (float(0xfff) / v_adc - 1)\n",
    "        )"
   ]
  },
  {
   "cell_type": "code",
   "execution_count": 55,
   "metadata": {
    "collapsed": false
   },
   "outputs": [],
   "source": [
    "cold_junction_thermistor = Thermistor()\n",
    "\n",
    "adc_clicks = np.arange(400, 4000, 1)\n",
    "k_type_temp2v = np.vectorize(k_type.func)\n",
    "cold_junction_adc2mv = k_type_temp2v(cold_junction_thermistor.temp(adc_clicks)-273.15)"
   ]
  },
  {
   "cell_type": "code",
   "execution_count": 60,
   "metadata": {
    "collapsed": false
   },
   "outputs": [
    {
     "name": "stdout",
     "output_type": "stream",
     "text": [
      "26.1086287066\n",
      "1.04518371242\n"
     ]
    }
   ],
   "source": [
    "index = np.argmax(adc_clicks==2394)\n",
    "print cold_junction_thermistor.temp(2394)-273.15\n",
    "print cold_junction_adc2mv[index]"
   ]
  },
  {
   "cell_type": "code",
   "execution_count": 59,
   "metadata": {
    "collapsed": false,
    "scrolled": false
   },
   "outputs": [
    {
     "name": "stdout",
     "output_type": "stream",
     "text": [
      "[(400, -87607),\n",
      " (454, -78964),\n",
      " (513, -70306),\n",
      " (576, -61773),\n",
      " (644, -53219),\n",
      " (718, -44528),\n",
      " (797, -35817),\n",
      " (882, -26966),\n",
      " (974, -17872),\n",
      " (1052, -10480),\n",
      " (1135, -2872),\n",
      " (1225, 5133),\n",
      " (1323, 13627),\n",
      " (1509, 29306),\n",
      " (1981, 68385),\n",
      " (2112, 79489),\n",
      " (2229, 89648),\n",
      " (2351, 100570),\n",
      " (2463, 110977),\n",
      " (2568, 121146),\n",
      " (2667, 131179),\n",
      " (2762, 141296),\n",
      " (2851, 151295),\n",
      " (2935, 161282),\n",
      " (3015, 171382),\n",
      " (3090, 181467),\n",
      " (3161, 191666),\n",
      " (3228, 201977),\n",
      " (3292, 212564),\n",
      " (3332, 219607),\n",
      " (3370, 226644),\n",
      " (3407, 233861),\n",
      " (3443, 241270),\n",
      " (3477, 248662),\n",
      " (3510, 256249),\n",
      " (3542, 264044),\n",
      " (3572, 271795),\n",
      " (3601, 279748),\n",
      " (3629, 287914),\n",
      " (3656, 296303),\n",
      " (3681, 304582),\n",
      " (3706, 313423),\n",
      " (3729, 322123),\n",
      " (3752, 331444),\n",
      " (3773, 340577),\n",
      " (3793, 349911),\n",
      " (3812, 359437),\n",
      " (3830, 369144),\n",
      " (3839, 374279),\n",
      " (3848, 379620),\n",
      " (3857, 385184),\n",
      " (3865, 390333),\n",
      " (3873, 395687),\n",
      " (3881, 401264),\n",
      " (3889, 407082),\n",
      " (3896, 412386),\n",
      " (3903, 417907),\n",
      " (3910, 423660),\n",
      " (3917, 429667),\n",
      " (3923, 435034),\n",
      " (3930, 441571),\n",
      " (3936, 447431),\n",
      " (3942, 453550),\n",
      " (3948, 459950),\n",
      " (3954, 466656),\n",
      " (3960, 473697),\n",
      " (3966, 481107),\n",
      " (3971, 487592),\n",
      " (3976, 494384),\n",
      " (3981, 501514),\n",
      " (3986, 509014),\n",
      " (3990, 515306),\n",
      " (3995, 523573),\n",
      " (3999, 530539)]\n"
     ]
    },
    {
     "data": {
      "text/plain": [
       "[<matplotlib.lines.Line2D at 0x1ebb6358>]"
      ]
     },
     "execution_count": 59,
     "metadata": {},
     "output_type": "execute_result"
    },
    {
     "data": {
      "image/png": "[encoded data removed]",
      "text/plain": [
       "<matplotlib.figure.Figure at 0xd69d1d0>"
      ]
     },
     "metadata": {},
     "output_type": "display_data"
    }
   ],
   "source": [
    "from rdp import rdp\n",
    "from pprint import pprint\n",
    "\n",
    "cold_junction_adc2mv_approx = rdp(zip(adc_clicks, cold_junction_adc2mv), epsilon=0.001)\n",
    "\n",
    "pprint([(int(v[0]), int(v[1]*100000)) for v in cold_junction_adc2mv_approx])\n",
    "\n",
    "plt.plot(adc_clicks, cold_junction_adc2mv)\n",
    "plt.plot([v[0] for v in cold_junction_adc2mv_approx], [v[1] for v in cold_junction_adc2mv_approx])"
   ]
  },
  {
   "cell_type": "code",
   "execution_count": 29,
   "metadata": {
    "collapsed": false
   },
   "outputs": [
    {
     "name": "stdout",
     "output_type": "stream",
     "text": [
      "Maximum hot junction voltage at 0C 48.8378729949\n",
      "Minimum hot junction voltage at 0C -3.55363133658\n"
     ]
    }
   ],
   "source": [
    "hot_junction_temp = np.arange(-100, 1200, 0.01)\n",
    "hot_junction_delta = k_type_temp2v(hot_junction_temp)\n",
    "print 'Maximum hot junction voltage at 0C {}'.format(hot_junction_delta.max())\n",
    "print 'Minimum hot junction voltage at 0C {}'.format(hot_junction_delta.min())"
   ]
  },
  {
   "cell_type": "code",
   "execution_count": 6,
   "metadata": {
    "collapsed": false,
    "scrolled": true
   },
   "outputs": [
    {
     "data": {
      "text/plain": [
       "[<matplotlib.lines.Line2D at 0xc0eccf8>]"
      ]
     },
     "execution_count": 6,
     "metadata": {},
     "output_type": "execute_result"
    },
    {
     "data": {
      "image/png": "[encoded data removed]",
      "text/plain": [
       "<matplotlib.figure.Figure at 0xb8f4828>"
      ]
     },
     "metadata": {},
     "output_type": "display_data"
    }
   ],
   "source": [
    "plt.plot(hot_junction_temp, hot_junction_delta)"
   ]
  },
  {
   "cell_type": "code",
   "execution_count": 9,
   "metadata": {
    "collapsed": false
   },
   "outputs": [],
   "source": [
    "def inverse_k_type(voltage):\n",
    "    return k_type.func.inverse(voltage, None, 1e-6)\n",
    "inverse_k_typev = np.vectorize(inverse_k_type)"
   ]
  },
  {
   "cell_type": "code",
   "execution_count": 34,
   "metadata": {
    "collapsed": false
   },
   "outputs": [],
   "source": [
    "hot_junction_voltage = np.arange(-6, 50, 0.001)\n",
    "hot_junction_v2temp = inverse_k_typev(hot_junction_voltage)"
   ]
  },
  {
   "cell_type": "code",
   "execution_count": 35,
   "metadata": {
    "collapsed": false
   },
   "outputs": [
    {
     "data": {
      "text/plain": [
       "[<matplotlib.lines.Line2D at 0x1e5b5c50>]"
      ]
     },
     "execution_count": 35,
     "metadata": {},
     "output_type": "execute_result"
    },
    {
     "data": {
      "image/png": "[encoded data removed]",
      "text/plain": [
       "<matplotlib.figure.Figure at 0xd7e7cf8>"
      ]
     },
     "metadata": {},
     "output_type": "display_data"
    }
   ],
   "source": [
    "plt.plot(hot_junction_voltage, hot_junction_v2temp)"
   ]
  },
  {
   "cell_type": "code",
   "execution_count": 42,
   "metadata": {
    "collapsed": false
   },
   "outputs": [
    {
     "name": "stdout",
     "output_type": "stream",
     "text": [
      "[(-600000, -20745761),\n",
      " (-583899, -19663385),\n",
      " (-565399, -18565988),\n",
      " (-544499, -17453017),\n",
      " (-521099, -16319743),\n",
      " (-495399, -15175797),\n",
      " (-467299, -14016022),\n",
      " (-403599, -11637114),\n",
      " (-330099, -9184684),\n",
      " (-245699, -6619551),\n",
      " (-149199, -3904806),\n",
      " (-38799, -990091),\n",
      " (117100, 2920661),\n",
      " (524800, 12802735),\n",
      " (970500, 23895984),\n",
      " (1250700, 30719361),\n",
      " (1467100, 35900951),\n",
      " (1708800, 41633726),\n",
      " (2516600, 60613122),\n",
      " (2838600, 68229597),\n",
      " (3182100, 76467347),\n",
      " (3504800, 84346050),\n",
      " (3711200, 89465637),\n",
      " (3914400, 94571026),\n",
      " (4113800, 99647162),\n",
      " (4307600, 104648324),\n",
      " (4492900, 109499150),\n",
      " (4669900, 114204326),\n",
      " (4838500, 118761147),\n",
      " (4999900, 123201957)]\n"
     ]
    }
   ],
   "source": [
    "hot_junction_v2temp_approx = rdp(zip(hot_junction_voltage, hot_junction_v2temp), epsilon=0.01)\n",
    "pprint([(int(v[0]*100000), int(v[1]*100000)) for v in hot_junction_v2temp_approx])"
   ]
  },
  {
   "cell_type": "code",
   "execution_count": 43,
   "metadata": {
    "collapsed": false
   },
   "outputs": [
    {
     "data": {
      "text/plain": [
       "13513500000L"
      ]
     },
     "execution_count": 43,
     "metadata": {},
     "output_type": "execute_result"
    }
   ],
   "source": [
    "3300000 * 0xfff\n",
    "\n"
   ]
  },
  {
   "cell_type": "code",
   "execution_count": null,
   "metadata": {
    "collapsed": true
   },
   "outputs": [],
   "source": []
  }
 ],
 "metadata": {
  "kernelspec": {
   "display_name": "Python 2",
   "language": "python",
   "name": "python2"
  },
  "language_info": {
   "codemirror_mode": {
    "name": "ipython",
    "version": 2
   },
   "file_extension": ".py",
   "mimetype": "text/x-python",
   "name": "python",
   "nbconvert_exporter": "python",
   "pygments_lexer": "ipython2",
   "version": "2.7.10"
  }
 },
 "nbformat": 4,
 "nbformat_minor": 1
}
