{
 "cells": [
  {
   "cell_type": "code",
   "execution_count": 2,
   "metadata": {
    "collapsed": false
   },
   "outputs": [
    {
     "name": "stdout",
     "output_type": "stream",
     "text": [
      "Using matplotlib backend: TkAgg\n",
      "Populating the interactive namespace from numpy and matplotlib\n"
     ]
    }
   ],
   "source": [
    "%pylab\n",
    "%matplotlib inline\n",
    "from thermocouples_reference import thermocouples\n",
    "\n",
    "k_type = thermocouples['K']"
   ]
  },
  {
   "cell_type": "code",
   "execution_count": 3,
   "metadata": {
    "collapsed": false
   },
   "outputs": [],
   "source": [
    "class Thermocouple(object):\n",
    "    def __init__(self, r1=10e3, r2=910e3, rtc=29.0, vref=10.050e-3, vdd=3.3):\n",
    "        \"\"\"\n",
    "        @brief Constructor\n",
    "        @param r1 Value of input resistors of LM358 differential setup\n",
    "        @param r2 Value of feedback resistors of LM358 differential setup\n",
    "        @param rtc Resistance of thermocouple itself\n",
    "        @param vref Value of Vref\n",
    "        @param vdd Value of Vdd\n",
    "        \"\"\"\n",
    "        self.r1 = r1\n",
    "        self.r2 = r2\n",
    "        self.rtc = rtc\n",
    "        self.vref = vref\n",
    "        self.vdd = vdd\n",
    "\n",
    "    @property\n",
    "    def c2(self):\n",
    "        return (self.r2 / self.r1)\n",
    "\n",
    "    @property\n",
    "    def c3(self):\n",
    "        return (self.r1 + self.rtc + self.r2) / self.rtc\n",
    "\n",
    "    def it(self, vout):\n",
    "        return (vout - self.vt(vout)) / (self.r1 + self.r2)\n",
    "\n",
    "    def vt(self, vout):\n",
    "        return self.vref - vout / self.c2\n",
    "\n",
    "    def vto(self, vout):\n",
    "        return self.vt(vout) - self.it(vout) * self.rtc\n",
    "\n",
    "class Thermistor(object):\n",
    "    def __init__(self, r0=100000, beta=3950, t0=298.15, r_sense=100000):\n",
    "        self.r0 = r0 # Ohm\n",
    "        self.beta = beta\n",
    "        self.t0 = t0 # Kelvin\n",
    "        self.r_sense = r_sense # Ohm\n",
    "\n",
    "        self.r_inf = self.r0 * numpy.e ** -(self.beta / self.t0)\n",
    "\n",
    "    def temp(self, v_adc):\n",
    "        \"\"\"\n",
    "        Accept ADC value from thermistor connected to ADC_IN0.\n",
    "        Return temperature in Kelvin\n",
    "        \"\"\"\n",
    "        return self.beta / numpy.log(\n",
    "            self.r_sense / self.r_inf * (float(0xfff) / v_adc - 1)\n",
    "        )"
   ]
  },
  {
   "cell_type": "code",
   "execution_count": 4,
   "metadata": {
    "collapsed": false
   },
   "outputs": [],
   "source": [
    "cold_junction_thermistor = Thermistor()\n",
    "\n",
    "adc_clicks = np.arange(400, 4000, 1)\n",
    "k_type_temp2v = np.vectorize(k_type.func)\n",
    "cold_junction_adc2mv = k_type_temp2v(cold_junction_thermistor.temp(adc_clicks)-273.15)"
   ]
  },
  {
   "cell_type": "code",
   "execution_count": 5,
   "metadata": {
    "collapsed": false
   },
   "outputs": [
    {
     "name": "stdout",
     "output_type": "stream",
     "text": [
      "24.330986346\n",
      "0.973143617085\n"
     ]
    }
   ],
   "source": [
    "thermistor_adc_value=2017\n",
    "index = np.argmax(adc_clicks==thermistor_adc_value)\n",
    "print(cold_junction_thermistor.temp(thermistor_adc_value)-273.15)\n",
    "print(cold_junction_adc2mv[index])"
   ]
  },
  {
   "cell_type": "code",
   "execution_count": 6,
   "metadata": {
    "collapsed": false,
    "scrolled": false
   },
   "outputs": [
    {
     "name": "stdout",
     "output_type": "stream",
     "text": [
      "[(400, -69496),\n",
      " (426, -65036),\n",
      " (454, -60442),\n",
      " (512, -51518),\n",
      " (575, -42564),\n",
      " (643, -33589),\n",
      " (716, -24589),\n",
      " (795, -15442),\n",
      " (880, -6151),\n",
      " (971, 3291),\n",
      " (1049, 11052),\n",
      " (1132, 19038),\n",
      " (1221, 27351),\n",
      " (1319, 36271),\n",
      " (1504, 52649),\n",
      " (1977, 93779),\n",
      " (2108, 105441),\n",
      " (2225, 116112),\n",
      " (2347, 127585),\n",
      " (2459, 138516),\n",
      " (2564, 149196),\n",
      " (2663, 159733),\n",
      " (2758, 170358),\n",
      " (2848, 180979),\n",
      " (2932, 191472),\n",
      " (3012, 202082),\n",
      " (3088, 212821),\n",
      " (3159, 223542),\n",
      " (3227, 234548),\n",
      " (3259, 240014),\n",
      " (3291, 245687),\n",
      " (3331, 253097),\n",
      " (3369, 260501),\n",
      " (3406, 268093),\n",
      " (3442, 275887),\n",
      " (3476, 283661),\n",
      " (3509, 291641),\n",
      " (3541, 299839),\n",
      " (3571, 307989),\n",
      " (3600, 316350),\n",
      " (3628, 324933),\n",
      " (3655, 333749),\n",
      " (3680, 342449),\n",
      " (3705, 351736),\n",
      " (3728, 360873),\n",
      " (3751, 370660),\n",
      " (3772, 380247),\n",
      " (3792, 390041),\n",
      " (3802, 395210),\n",
      " (3812, 400580),\n",
      " (3830, 410802),\n",
      " (3839, 416208),\n",
      " (3848, 421831),\n",
      " (3857, 427690),\n",
      " (3865, 433110),\n",
      " (3873, 438748),\n",
      " (3881, 444619),\n",
      " (3889, 450744),\n",
      " (3896, 456328),\n",
      " (3903, 462140),\n",
      " (3910, 468197),\n",
      " (3917, 474521),\n",
      " (3923, 480171),\n",
      " (3930, 487054),\n",
      " (3936, 493224),\n",
      " (3942, 499667),\n",
      " (3948, 506405),\n",
      " (3954, 513467),\n",
      " (3960, 520883),\n",
      " (3966, 528688),\n",
      " (3971, 535519),\n",
      " (3976, 542676),\n",
      " (3981, 550189),\n",
      " (3986, 558093),\n",
      " (3990, 564726),\n",
      " (3995, 573443),\n",
      " (3999, 580789)]\n"
     ]
    },
    {
     "data": {
      "text/plain": [
       "[<matplotlib.lines.Line2D at 0x1ed91d0fe48>]"
      ]
     },
     "execution_count": 6,
     "metadata": {},
     "output_type": "execute_result"
    },
    {
     "data": {
      "image/png": "[encoded data removed]",
      "text/plain": [
       "<matplotlib.figure.Figure at 0x1ed91d0fcc0>"
      ]
     },
     "metadata": {},
     "output_type": "display_data"
    }
   ],
   "source": [
    "from rdp import rdp\n",
    "from pprint import pprint\n",
    "\n",
    "cold_junction_adc2mv_approx = rdp(list(zip(adc_clicks, cold_junction_adc2mv)), epsilon=0.001)\n",
    "\n",
    "pprint([(int(v[0]), int(v[1]*100000)) for v in cold_junction_adc2mv_approx])\n",
    "\n",
    "plt.plot(adc_clicks, cold_junction_adc2mv)\n",
    "plt.plot([v[0] for v in cold_junction_adc2mv_approx], [v[1] for v in cold_junction_adc2mv_approx])"
   ]
  },
  {
   "cell_type": "code",
   "execution_count": 7,
   "metadata": {
    "collapsed": false
   },
   "outputs": [
    {
     "name": "stdout",
     "output_type": "stream",
     "text": [
      "Maximum hot junction voltage at 0C 48.83787299493648\n",
      "Minimum hot junction voltage at 0C -3.5536313365806005\n"
     ]
    }
   ],
   "source": [
    "hot_junction_temp = np.arange(-100, 1200, 0.01)\n",
    "hot_junction_delta = k_type_temp2v(hot_junction_temp)\n",
    "print('Maximum hot junction voltage at 0C {}'.format(hot_junction_delta.max()))\n",
    "print('Minimum hot junction voltage at 0C {}'.format(hot_junction_delta.min()))"
   ]
  },
  {
   "cell_type": "code",
   "execution_count": 8,
   "metadata": {
    "collapsed": false,
    "scrolled": true
   },
   "outputs": [
    {
     "data": {
      "text/plain": [
       "[<matplotlib.lines.Line2D at 0x1ed91f013c8>]"
      ]
     },
     "execution_count": 8,
     "metadata": {},
     "output_type": "execute_result"
    },
    {
     "data": {
      "image/png": "[encoded data removed]",
      "text/plain": [
       "<matplotlib.figure.Figure at 0x1ed91ceca90>"
      ]
     },
     "metadata": {},
     "output_type": "display_data"
    }
   ],
   "source": [
    "plt.plot(hot_junction_temp, hot_junction_delta)"
   ]
  },
  {
   "cell_type": "code",
   "execution_count": 9,
   "metadata": {
    "collapsed": false
   },
   "outputs": [],
   "source": [
    "def inverse_k_type(voltage):\n",
    "    return k_type.func.inverse(voltage, None, 1e-6)\n",
    "inverse_k_typev = np.vectorize(inverse_k_type)"
   ]
  },
  {
   "cell_type": "code",
   "execution_count": 10,
   "metadata": {
    "collapsed": false
   },
   "outputs": [],
   "source": [
    "hot_junction_voltage = np.arange(-6, 50, 0.001)\n",
    "hot_junction_v2temp = inverse_k_typev(hot_junction_voltage)"
   ]
  },
  {
   "cell_type": "code",
   "execution_count": 11,
   "metadata": {
    "collapsed": false
   },
   "outputs": [
    {
     "data": {
      "text/plain": [
       "[<matplotlib.lines.Line2D at 0x1ed93bdcd68>]"
      ]
     },
     "execution_count": 11,
     "metadata": {},
     "output_type": "execute_result"
    },
    {
     "data": {
      "image/png": "[encoded data removed]",
      "text/plain": [
       "<matplotlib.figure.Figure at 0x1ed93581198>"
      ]
     },
     "metadata": {},
     "output_type": "display_data"
    }
   ],
   "source": [
    "plt.plot(hot_junction_voltage, hot_junction_v2temp)"
   ]
  },
  {
   "cell_type": "code",
   "execution_count": 12,
   "metadata": {
    "collapsed": false
   },
   "outputs": [
    {
     "name": "stdout",
     "output_type": "stream",
     "text": [
      "[(-600000, -20745761),\n",
      " (-583899, -19663385),\n",
      " (-565399, -18565988),\n",
      " (-544499, -17453017),\n",
      " (-521099, -16319743),\n",
      " (-495399, -15175797),\n",
      " (-467299, -14016022),\n",
      " (-403599, -11637114),\n",
      " (-330099, -9184684),\n",
      " (-245699, -6619551),\n",
      " (-149199, -3904806),\n",
      " (-38799, -990091),\n",
      " (117100, 2920661),\n",
      " (524800, 12802735),\n",
      " (970500, 23895984),\n",
      " (1250700, 30719361),\n",
      " (1467100, 35900951),\n",
      " (1708800, 41633726),\n",
      " (2516600, 60613122),\n",
      " (2838600, 68229597),\n",
      " (3182100, 76467347),\n",
      " (3504800, 84346050),\n",
      " (3711200, 89465637),\n",
      " (3914400, 94571026),\n",
      " (4113800, 99647162),\n",
      " (4307600, 104648324),\n",
      " (4492900, 109499150),\n",
      " (4669900, 114204326),\n",
      " (4838500, 118761147),\n",
      " (4999900, 123201957)]\n"
     ]
    }
   ],
   "source": [
    "hot_junction_v2temp_approx = rdp(list(zip(hot_junction_voltage, hot_junction_v2temp)), epsilon=0.01)\n",
    "pprint([(int(v[0]*100000), int(v[1]*100000)) for v in hot_junction_v2temp_approx])"
   ]
  },
  {
   "cell_type": "code",
   "execution_count": 13,
   "metadata": {
    "collapsed": false
   },
   "outputs": [],
   "source": [
    "tc = Thermocouple()\n",
    "\n",
    "def convt(cjv, cjt):\n",
    "    return thermocouples['K'].inverse_CmV(tc.vto(cjv)*1000, cjt)"
   ]
  },
  {
   "cell_type": "code",
   "execution_count": 14,
   "metadata": {
    "collapsed": false
   },
   "outputs": [
    {
     "name": "stdout",
     "output_type": "stream",
     "text": [
      "3.901098901098847e-05\n",
      "1.02959143573812e-05\n",
      "25.5040231207\n"
     ]
    }
   ],
   "source": [
    "external_voltage = 0.911\n",
    "cold_junction_temp = 25.250\n",
    "print(tc.vt(external_voltage))\n",
    "print(tc.vto(external_voltage))\n",
    "print(convt(external_voltage, cold_junction_temp))"
   ]
  },
  {
   "cell_type": "code",
   "execution_count": 15,
   "metadata": {
    "collapsed": false
   },
   "outputs": [
    {
     "data": {
      "text/plain": [
       "0.03296703296703297"
      ]
     },
     "execution_count": 15,
     "metadata": {},
     "output_type": "execute_result"
    }
   ],
   "source": [
    "3.0/91"
   ]
  },
  {
   "cell_type": "code",
   "execution_count": null,
   "metadata": {
    "collapsed": true
   },
   "outputs": [],
   "source": []
  }
 ],
 "metadata": {
  "kernelspec": {
   "display_name": "Python 3",
   "language": "python",
   "name": "python3"
  },
  "language_info": {
   "codemirror_mode": {
    "name": "ipython",
    "version": 3
   },
   "file_extension": ".py",
   "mimetype": "text/x-python",
   "name": "python",
   "nbconvert_exporter": "python",
   "pygments_lexer": "ipython3",
   "version": "3.5.2"
  }
 },
 "nbformat": 4,
 "nbformat_minor": 1
}
