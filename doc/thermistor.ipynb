{
 "cells": [
  {
   "cell_type": "markdown",
   "metadata": {},
   "source": [
    "# Messing with Thermistors"
   ]
  },
  {
   "cell_type": "markdown",
   "metadata": {},
   "source": [
    "## Intro\n",
    "\n",
    "I want my electronic thermometer to measure temperatures higher than 300C. This basically means that I can't use a single thermistor or temperature sensor (e.g [LM35](http://www.ti.com/product/LM35)). Those are limited to 200-300C max. \n",
    "\n",
    "I will use a [cheap thermocouple](http://www.ebay.com/sch/i.html?_from=R40&_sacat=0&_nkw=k+type+thermocouple+sensor&rt=nc&LH_BIN=1). It will probably be less precise, but it is OK for my needs.\n",
    "The question is how to deal with cold junction compensation?\n",
    "\n",
    "The [simplest solution](https://learn.adafruit.com/thermocouple/) would be using IC like [MAX6675](https://www.maximintegrated.com/en/products/analog/sensors-and-sensor-interface/MAX6675.html). But my goal is not a simplest solution, but learning electronics and STM32 programming. I can always revert to MAX6675 if my own solution fails.\n",
    "\n",
    "The hard way requires thermocouple voltage amplifier and cold junction compensation. I will leave thermocouple amplification for another blog. For now I will concentrate on a relatively simple problem of obtaining cold junction temperature.\n",
    "\n",
    "The idea came from [EEVBlog #419](https://www.youtube.com/watch?v=AYblSfpKRUk) where Dave taking apart the Fluke thermometer. That puppy has two massive thermocouple terminals with **thermistor** between them.\n",
    "\n",
    "Further dealing with thermocouples is a subject for another blog, but for now I will deal with the thermistor."
   ]
  },
  {
   "cell_type": "markdown",
   "metadata": {},
   "source": [
    "## Thermistors\n",
    "\n",
    "[Thermistor](https://en.wikipedia.org/wiki/Thermistor) is a resistor that changes its resistance depending on temperature. [Thermistors are cheap](http://www.ebay.com/sch/i.html?_from=R40&_sacat=0&_nkw=thermistor&_sop=15) and come in different flavors of size, precision, resistance, etc... \n",
    "\n",
    "> **Important Note:** When buying on Ebay ensure that seller provides resistance ($R_0$) at known \n",
    "> temperature ($T_0$) and Beta value ($B $). I didn't paid attention when I bought my, but I was lucky enough to \n",
    "> find that info in the order information and the values were suitable for my project.\n",
    ">\n",
    "> Also, another important characteristic is the tolerance.\n",
    "\n",
    "I have got $R_0=100KOhm$, $T_0=25C$ and $B=3950$. And the tolerance is 5%.\n",
    "\n",
    "## Connecting to MCU\n",
    "\n",
    "The next question was how do I connect that thing to my MCU?\n",
    "The idea came again from [Adafruit learning site](https://learn.adafruit.com/thermistor/using-a-thermistor). \n",
    "Schematics is very simple:\n",
    "\n",
    "<img src=\"./thermistor.png\" width=\"100\">\n",
    "\n",
    "Here the COLDJT is directly connected to ADC_IN0 on MCU. \n",
    "\n",
    "The COLDJT voltage is always between ground and $V_{cc}$ thus it always fits ADC range accepted by STM32F030. \n",
    "But will it be wide enough to have enough precision? \n",
    "\n",
    "This depends on values of TP1 and R1. "
   ]
  },
  {
   "cell_type": "markdown",
   "metadata": {},
   "source": [
    "## Thermistor Resistance Range\n",
    "\n",
    "> **Note**: All (or most) the python code below is from [thermo github repository](https://github.com/kloper/thermo)\n",
    "\n",
    "First of all lets try to figure out thermistor resistance range. My thermistor will be used for measuring of thermocouple cold junction. It will be mounted inside thermometer box and used almost always indoor. Thus, it is more than safe to assume its target temperature range is from -20C to 70C.\n",
    "\n",
    "From the [Wikipedia article on thermistor](https://en.wikipedia.org/wiki/Thermistor):\n",
    "\n",
    "$R=r_{\\infty}e^{B\\over{T}}$, where $r_{\\infty}=R_0e^{-B\\over{T_0}}$\n",
    "\n",
    "Here $R_0$ is a resistance of the thermistor for temperature $T_0$ and $B$ is its beta value.\n",
    "Lets plot it"
   ]
  },
  {
   "cell_type": "code",
   "execution_count": 6,
   "metadata": {
    "collapsed": false
   },
   "outputs": [
    {
     "name": "stdout",
     "output_type": "stream",
     "text": [
      "Using matplotlib backend: TkAgg\n",
      "Populating the interactive namespace from numpy and matplotlib\n",
      "Maximal resistance: 1053846.90206\n",
      "Minimal resistance: 17598.3700852\n"
     ]
    }
   ],
   "source": [
    "%matplotlib inline\n",
    "%pylab\n",
    "\n",
    "class Thermistor(object):\n",
    "    def __init__(self, r0=100000, beta=3950, t0=298.15):\n",
    "        self.r0 = r0 # Ohm\n",
    "        self.beta = beta\n",
    "        self.t0 = t0 # Kelvin\n",
    "\n",
    "        self.r_inf = self.r0 * numpy.e ** -(self.beta / self.t0)\n",
    "\n",
    "    def resistance(self, temp):\n",
    "        \"\"\"\n",
    "        Calculate resistance of a thermistor based on temperature in Kelvin\n",
    "        \"\"\"\n",
    "        return self.r_inf * (numpy.e ** (self.beta/temp))\n",
    "    \n",
    "\n",
    "T = np.arange(273.15-20, 273.15+70, 0.05)\n",
    "thermistor = Thermistor()\n",
    "temperature = np.vectorize(thermistor.resistance)\n",
    "plt.plot(T, temperature(T))\n",
    "\n",
    "print 'Maximal resistance: {}'.format(thermistor.resistance(273.15-20))\n",
    "print 'Minimal resistance: {}'.format(thermistor.resistance(273.15+70))"
   ]
  },
  {
   "cell_type": "markdown",
   "metadata": {},
   "source": [
    "TR1 resistance will be between 17.6KOhm to 105.3KOhm, depending on temperature. \n",
    "\n",
    "## Figuring out R1 value\n",
    "\n",
    "Voltage at COLDJT depends on resistance of TR1 and on resistance of R1 which is constant.\n",
    "Lets call it $V_{CJT}$ and try to optimize its range."
   ]
  },
  {
   "cell_type": "code",
   "execution_count": 7,
   "metadata": {
    "collapsed": false
   },
   "outputs": [
    {
     "name": "stdout",
     "output_type": "stream",
     "text": [
      "Optimum R1 value and corresponding voltage range 136000, [2.921913045742783, 0.3771916701825278]\n"
     ]
    }
   ],
   "source": [
    " class Sense(object):\n",
    "    def __init__(self,\n",
    "                 vdd=3.3,\n",
    "                 thermo_resistance_start=17598,\n",
    "                 thermo_resistance_stop=1053846):\n",
    "        self.thermo_range = [thermo_resistance_start,\n",
    "                             thermo_resistance_stop]\n",
    "        self.vdd = vdd\n",
    "\n",
    "    def voltage(self, sense, thermo):\n",
    "        \"\"\"\n",
    "        Calculate voltage on thermistor/sense resistor junction based on\n",
    "        their resistances\n",
    "        \"\"\"\n",
    "        return float(sense)/(sense+thermo) * self.vdd\n",
    "\n",
    "    def delta(self, sense):\n",
    "        \"\"\"\n",
    "        Calculate thermistor/sense voltage range depending on\n",
    "        sense resistance and required thermistor resistance ranges\n",
    "        \"\"\"\n",
    "        return abs(self.voltage(sense, self.thermo_range[0]) - \\\n",
    "                   self.voltage(sense, self.thermo_range[1]))\n",
    "\n",
    "    def optimum_sense(self, start, stop, step):\n",
    "        \"\"\"\n",
    "        Find sense resistance in specified interval that leads to a\n",
    "        maximum voltage range in thermistor/sense junction for specified\n",
    "        thermistor resistance ranges.\n",
    "        \"\"\"\n",
    "        sense_values = np.arange(start, stop, step)\n",
    "        delta = np.vectorize(self.delta)\n",
    "        deltas = delta(sense_values)\n",
    "        plt.plot(sense_values, deltas)\n",
    "        sense = sense_values[numpy.argmax(deltas)]\n",
    "        return (sense, [self.voltage(sense, t) for t in self.thermo_range])\n",
    "    \n",
    "    \n",
    "sense = Sense()\n",
    "(optimum_sense, vcjt_range) = sense.optimum_sense(10000, 300000, 1000)\n",
    "print 'Optimum R1 value and corresponding voltage range {}, {}'.format(optimum_sense, vcjt_range)"
   ]
  },
  {
   "cell_type": "markdown",
   "metadata": {},
   "source": [
    "The code above fixes a single value of R1, then it calculates a difference of values of $V_{CJT}$ at minimum and maximum possible temperature (-20C to 70C, corresponding to TR1 between 17.6KOhm and 105.3KOhm, see above). It calculates the difference for a range of R1 values.\n",
    "\n",
    "The graph above shows dependency of that difference on different values of R1. We have a single R1 value of 136KOhm that corresponds to the widest $V_{CJT}$ range 0.337V to 2.922V. Lets see if this is useful.\n",
    "\n",
    "## Does my schematic do what I want?\n",
    "\n",
    "STM32F030 has 12-bit ADC. This means that $V_{CJT}$ will be sampled and compared with $V_{dd}$ and software will obtain a value in \"ADC Clicks\", lets call it $S_{CJT}$, it will have values in range [0..0xfff] where 0 corresoponds to $V_{CJT}=0$ and 0xfff\n",
    "corresponds to $V_{CJT}=3.3V$ or above:\n",
    "$$S_{CJT}=\\lceil{V_{CJT}\\over{V_{dd}}}0xfff\\rceil$$\n",
    "\n",
    "Given that it is easy to calculate the range of $S_{CJT}$ values given the voltage range:"
   ]
  },
  {
   "cell_type": "code",
   "execution_count": 8,
   "metadata": {
    "collapsed": false
   },
   "outputs": [
    {
     "name": "stdout",
     "output_type": "stream",
     "text": [
      "Range width: 2.54472137556\n",
      "Range width in ADC clicks: 3157\n",
      "ADC clicks per degree Celsius: 35\n"
     ]
    }
   ],
   "source": [
    "width = vcjt_range[0] - vcjt_range[1]\n",
    "print 'Range width: {}'.format(width)\n",
    "\n",
    "adc_width = int(width / 3.3 * 0xfff)\n",
    "print 'Range width in ADC clicks: {}'.format(adc_width)\n",
    "\n",
    "clicks_per_degree = adc_width / (70 - (-20))\n",
    "print 'ADC clicks per degree Celsius: {}'.format(clicks_per_degree)\n"
   ]
  },
  {
   "cell_type": "markdown",
   "metadata": {},
   "source": [
    "A-ha! So I have 35 ADC clicks per single degree. Thus, setting R1 to 136KOhm will provide voltage range that is more than enough for temperature tracking over ADC!\n",
    "\n",
    "Good to go!\n",
    "\n",
    "## Converting to temperature units\n",
    "\n",
    "The remaining question is how do I convert the ADC clicks into actual temperature value in Kelvin or Celsius? \n",
    "\n",
    "Lets make some schematic analysis."
   ]
  },
  {
   "cell_type": "markdown",
   "metadata": {},
   "source": [
    "We have Ohm law for both TR1 and R1:\n",
    "\n",
    "$R_{TR1}={{V_{dd}-V_{CJT}}\\over{I}}$, where $I$ is a current flowing over TR1 and R1\n",
    "\n",
    "$I={{V_{CJT}}\\over{R_{R1}}}$\n",
    "\n",
    "Substituting $I$ in the first equation gives us \n",
    "$$R_{TR1}={R_{R1}\\big({V_{dd}\\over{V_{CJT}}}-1\\big)}$$\n",
    "\n",
    "Again from the [Wikipedia article on thermistor](https://en.wikipedia.org/wiki/Thermistor):\n",
    "$$T={B\\over{\\ln{\\big({R_{TR1}\\over{r_{\\infty}}}\\big)}}}$$\n",
    "\n",
    "Substituting the $R_{TR1}$ formula:\n",
    "$$T={B\\over{\\ln{\\big({R_{R1}\\over{r_{\\infty}}}\\big({V_{dd}\\over{V_{CJT}}}-1\\big)\\big)}}}$$\n",
    "\n",
    "Substituting the $S_{CJT}$ formula we get:\n",
    "$$T={B\\over{\\ln{\\big({R_{R1}\\over{r_{\\infty}}}\\big({0xfff\\over{S_{CJT}}}-1\\big)\\big)}}}$$\n",
    "\n",
    "> **Note**: The resulting temperature is in Kelvin. [Converting to Celsius is trivial](https://www.google.com/#sclient=psy&hl=en&q=kelvin%20to%20celsius)."
   ]
  },
  {
   "cell_type": "markdown",
   "metadata": {},
   "source": [
    "Now, there is good news and bad news.\n",
    "\n",
    "The good news is that $V_{dd}$ magically disappeared from the equation. This means that the chip will compensate $V_{dd}$ fluctuations and there is no need to do that in software.\n",
    "\n",
    "The bad news is that the software will need to do that $\\ln()$ stuff. \n",
    "\n",
    "But wait, my STM32F030 does not have FPU! \n",
    "\n",
    "I can go [Adafruit path](https://learn.adafruit.com/thermistor/using-a-thermistor) and rely on compiler to insert floating point simulation code. But something in me screams \"No Way!!!\". \n",
    "\n",
    "Luckily the solution is simpler than expected. \n",
    "\n",
    "## Throwing out floating point\n",
    "\n",
    "Lets precalculate the function and put on chip its linear approximation."
   ]
  },
  {
   "cell_type": "code",
   "execution_count": 28,
   "metadata": {
    "collapsed": false
   },
   "outputs": [
    {
     "name": "stdout",
     "output_type": "stream",
     "text": [
      "[[461.0, 253.11222730625923],\n",
      " [699.0, 261.21337199513243],\n",
      " [1012.0, 269.5324152051872],\n",
      " [1355.0, 277.28655943093554],\n",
      " [2344.0, 298.12754663750894],\n",
      " [2626.0, 304.780313660113],\n",
      " [2865.0, 311.1343478978771],\n",
      " [3105.0, 318.6005327616949],\n",
      " [3307.0, 326.2646538317835],\n",
      " [3477.0, 334.36045885545735],\n",
      " [3618.0, 343.0345723209372]]\n"
     ]
    },
    {
     "data": {
      "image/png": "[encoded data removed]",
      "text/plain": [
       "<matplotlib.figure.Figure at 0x10d55710>"
      ]
     },
     "metadata": {},
     "output_type": "display_data"
    }
   ],
   "source": [
    "%matplotlib inline\n",
    "\n",
    "# Ramer-Douglas-Peucker Algorithm implementation from\n",
    "# git@github.com:fhirschmann/rdp.git\n",
    "from rdp import rdp\n",
    "\n",
    "class Thermistor(object):\n",
    "    def __init__(self, r0=100000, beta=3950, t0=298.15, r_sense=136000):\n",
    "        self.r0 = r0 # Ohm\n",
    "        self.beta = beta\n",
    "        self.t0 = t0 # Kelvin\n",
    "        self.r_sense = r_sense # Ohm\n",
    "\n",
    "        self.r_inf = self.r0 * numpy.e ** -(self.beta / self.t0)\n",
    "\n",
    "    def temp(self, v_adc):\n",
    "        \"\"\"\n",
    "        Accept ADC value from thermistor connected to ADC_IN0.\n",
    "        Return temperature in Kelvin\n",
    "        \"\"\"\n",
    "        return self.beta / numpy.log(\n",
    "            self.r_sense / self.r_inf * (float(0xfff) / v_adc - 1)\n",
    "        )\n",
    "\n",
    "    def resistance(self, temp):\n",
    "        \"\"\"\n",
    "        Calculate resistance of a thermistor based on temperature\n",
    "        \"\"\"\n",
    "        return self.r_inf * (numpy.e ** (self.beta/temp))\n",
    "\n",
    "    def temp_approximation(self, adc_start=100, adc_stop=3900, epsilon=0.3):\n",
    "        \"\"\"\n",
    "        Calculate linear approximation to temperature curve for a range of\n",
    "        ADC values.\n",
    "        \"\"\"\n",
    "        adc_values = numpy.arange(adc_start, adc_stop)\n",
    "        temperature = self.temp(adc_values)\n",
    "        return (adc_values, temperature, rdp(zip(adc_values, temperature), epsilon=epsilon))\n",
    "\n",
    "# I probably need to put a trimmer to get exact value of 136KOhm, but I didn't have suitable one\n",
    "# so I have put a pair of 67KOhm in series. Close enough to the optimum.\n",
    "actual_sense_value = 67000 * 2 \n",
    "adc_stop = int( sense.voltage(actual_sense_value, sense.thermo_range[0]) * 0xfff / sense.vdd )\n",
    "adc_start = int( sense.voltage(actual_sense_value, sense.thermo_range[1]) * 0xfff / sense.vdd )\n",
    "\n",
    "thermo = Thermistor(r_sense=actual_sense_value)\n",
    "(adc_clicks, temperature, temp_approx) = thermo.temp_approximation(adc_start, adc_stop)\n",
    "plt.plot(adc_clicks, temperature)\n",
    "plt.plot([v[0] for v in temp_approx], [v[1] for v in temp_approx])\n",
    "\n",
    "import pprint\n",
    "pprint.pprint(temp_approx)"
   ]
  },
  {
   "cell_type": "raw",
   "metadata": {},
   "source": [
    "This seems to be a single graph, but actually are two graphs that are very close. Lets try to calculate how actually close they are."
   ]
  },
  {
   "cell_type": "code",
   "execution_count": 27,
   "metadata": {
    "collapsed": false
   },
   "outputs": [
    {
     "data": {
      "image/png": "[encoded data removed]",
      "text/plain": [
       "<matplotlib.figure.Figure at 0xc834080>"
      ]
     },
     "metadata": {},
     "output_type": "display_data"
    }
   ],
   "source": [
    "for (start_x, start_y), (end_x, end_y) in zip(temp_approx, temp_approx[1:]):\n",
    "    axis = np.arange(start_x, end_x)\n",
    "    delta = np.abs(np.interp(axis, [start_x, end_x], [start_y, end_y]) - \n",
    "                   thermo.temp(axis))\n",
    "    plt.plot(delta)     "
   ]
  },
  {
   "cell_type": "markdown",
   "metadata": {},
   "source": [
    "As expected, the error does not exceed 0.3 degrees. More than enough for my needs!\n",
    "\n",
    "## Lets Implement!\n",
    "\n",
    "> Note: The latest and greatest is in the [thermo github repository](https://github.com/kloper/thermo/blob/master/src/steinhart.c)"
   ]
  },
  {
   "cell_type": "raw",
   "metadata": {},
   "source": [
    "typedef struct _temp_point {\n",
    "   uint16_t adc_value;\n",
    "   uint32_t temp_kelvin;\n",
    "} temp_point_t;\n",
    "\n",
    "static temp_point_t steinhart_approximation[] = { \n",
    "   {461, 253112},\n",
    "   {699, 261213},\n",
    "   {1012, 269532},\n",
    "   {1355, 277286},\n",
    "   {2344, 298127},\n",
    "   {2626, 304780},\n",
    "   {2865, 311134},\n",
    "   {3105, 318600},\n",
    "   {3307, 326264},\n",
    "   {3477, 334360},\n",
    "   {3618, 34303})\n",
    "};\n",
    "\n",
    "/**\n",
    " * @brief Convert ADC value into temperature in Kelvin\n",
    " * \n",
    " * Look-up an appropriate entry in the precalculated linear approximation table of the\n",
    " * Steinhart-Hart function. \n",
    " *\n",
    " * @returns Linear approximation of the temperature as 32-bit integer that \n",
    " *          represents the temperature multiplied by 1000. \n",
    " */\n",
    "uint32_t steinhart(uint16_t adc_value)\n",
    "{\n",
    "   int size = sizeof(steinhart_approximation)/sizeof(temp_point_t);\n",
    "   int index, upper = size, lower = 0;\n",
    "\n",
    "   while(upper > lower) {\n",
    "      index = lower + (upper - lower) / 2;\n",
    "      if( adc_value >= steinhart_approximation[index].adc_value ) {\n",
    "         if (adc_value < steinhart_approximation[index+1].adc_value)\n",
    "            break;\n",
    "         lower = index+1;\n",
    "      } else if( adc_value < steinhart_approximation[index].adc_value ) {\n",
    "         if (adc_value >= steinhart_approximation[index-1].adc_value) {\n",
    "            index -= 1;\n",
    "            break;\n",
    "         }\n",
    "         upper = index;\n",
    "      }\n",
    "   } \n",
    "\n",
    "   if (upper == lower || adc_value == steinhart_approximation[index].adc_value)\n",
    "      return steinhart_approximation[index].temp_kelvin;\n",
    "   \n",
    "   uint32_t linear_approx =\n",
    "      (steinhart_approximation[index+1].temp_kelvin -\n",
    "       steinhart_approximation[index].temp_kelvin) *\n",
    "      (adc_value - steinhart_approximation[index].adc_value) /\n",
    "      (steinhart_approximation[index+1].adc_value -\n",
    "       steinhart_approximation[index].adc_value) +\n",
    "      steinhart_approximation[index].temp_kelvin;\n",
    "   \n",
    "   return linear_approx;\n",
    "}"
   ]
  }
 ],
 "metadata": {
  "kernelspec": {
   "display_name": "Python 2",
   "language": "python",
   "name": "python2"
  },
  "language_info": {
   "codemirror_mode": {
    "name": "ipython",
    "version": 2
   },
   "file_extension": ".py",
   "mimetype": "text/x-python",
   "name": "python",
   "nbconvert_exporter": "python",
   "pygments_lexer": "ipython2",
   "version": "2.7.10"
  }
 },
 "nbformat": 4,
 "nbformat_minor": 0
}
